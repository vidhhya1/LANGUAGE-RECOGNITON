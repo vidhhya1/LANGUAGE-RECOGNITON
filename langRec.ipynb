{
 "cells": [
  {
   "cell_type": "code",
   "execution_count": 2,
   "metadata": {},
   "outputs": [
    {
     "name": "stdout",
     "output_type": "stream",
     "text": [
      "Error: An error occurred: [Errno 2] No such file or directory: 'C:\\\\Users\\\\vidhh\\\\Desktop\\\\new project\\\\path to your image'\n"
     ]
    }
   ],
   "source": [
    "from PIL import Image\n",
    "import pytesseract\n",
    "from langdetect import detect, detect_langs, DetectorFactory\n",
    "from langdetect.lang_detect_exception import LangDetectException\n",
    "\n",
    "\n",
    "DetectorFactory.seed = 0\n",
    "\n",
    "\n",
    "def detect_language_from_image(image_path):\n",
    "    try:\n",
    "        \n",
    "        image = Image.open(image_path)\n",
    "        \n",
    "        \n",
    "        extracted_text = pytesseract.image_to_string(image, lang='osd+eng')\n",
    "        \n",
    "        if not extracted_text.strip():\n",
    "            return \"No text found in image.\"\n",
    "        \n",
    "        \n",
    "        detected_language = detect(extracted_text)\n",
    "        detected_languages_with_prob = detect_langs(extracted_text)\n",
    "        \n",
    "        return {\n",
    "            \"extracted_text\": extracted_text,\n",
    "            \"detected_language\": detected_language,\n",
    "            \"detected_languages_with_probabilities\": detected_languages_with_prob \n",
    "        }\n",
    "    except LangDetectException as e:\n",
    "        return f\"Language detection error: {str(e)}\" \n",
    "    except Exception as e:\n",
    "        return f\"An error occurred: {str(e)}\" \n",
    "\n",
    "\n",
    "image_path = r\"path to your image\"  \n",
    "result = detect_language_from_image(image_path)\n",
    "\n",
    "\n",
    "if isinstance(result, str):\n",
    "    print(\"Error:\", result)  \n",
    "else:\n",
    "    print(\"Extracted Text:\", result.get(\"extracted_text\"))\n",
    "    print(\"Detected Language:\", result.get(\"detected_language\"))\n",
    "    print(\"Detected Languages with Probabilities:\", result.get(\"detected_languages_with_probabilities\"))\n",
    "    \n",
    "    \n",
    "    if result.get(\"detected_languages_with_probabilities\")[0].prob > 0.9:\n",
    "        detected_lang_code = result.get(\"detected_languages_with_probabilities\")[0].lang\n",
    "        image = Image.open(image_path)\n",
    "        text = pytesseract.image_to_string(image, lang=input(\"Enter the language code: \"))\n",
    "        print(\"Text with detected language OCR:\", text)\n"
   ]
  }
 ],
 "metadata": {
  "kernelspec": {
   "display_name": "Python 3",
   "language": "python",
   "name": "python3"
  },
  "language_info": {
   "codemirror_mode": {
    "name": "ipython",
    "version": 3
   },
   "file_extension": ".py",
   "mimetype": "text/x-python",
   "name": "python",
   "nbconvert_exporter": "python",
   "pygments_lexer": "ipython3",
   "version": "3.12.4"
  }
 },
 "nbformat": 4,
 "nbformat_minor": 2
}
